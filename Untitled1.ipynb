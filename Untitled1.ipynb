{
 "cells": [
  {
   "cell_type": "code",
   "execution_count": 1,
   "id": "3aec7687",
   "metadata": {},
   "outputs": [],
   "source": [
    "def readFile(filename):\n",
    "    \"\"\"file name with.txt format \"\"\"\n",
    "    f=open(filename,\"r\")\n",
    "    x=[f.read()][0].split()\n",
    "    x2=[]\n",
    "    for i in x:\n",
    "        x2.append(int(i))\n",
    "    return x2"
   ]
  },
  {
   "cell_type": "code",
   "execution_count": 2,
   "id": "076f480d",
   "metadata": {},
   "outputs": [],
   "source": [
    "def common_element(l1,l2):\n",
    "    l3=[]\n",
    "    for i in l1:\n",
    "        if i in l2:\n",
    "            l3.append(i)\n",
    "    return l3\n",
    "            "
   ]
  },
  {
   "cell_type": "code",
   "execution_count": 3,
   "id": "cd62a9df",
   "metadata": {},
   "outputs": [],
   "source": [
    "def writeFile(filename,l3):\n",
    "    \"\"\"filename with .txt format\"\"\"\n",
    "    f=open(filename,\"w\")\n",
    "    for i in l3:\n",
    "        f.write(\"%s\\n\"%i)\n",
    "    f.close()\n",
    "    "
   ]
  }
 ],
 "metadata": {
  "kernelspec": {
   "display_name": "Python 3 (ipykernel)",
   "language": "python",
   "name": "python3"
  },
  "language_info": {
   "codemirror_mode": {
    "name": "ipython",
    "version": 3
   },
   "file_extension": ".py",
   "mimetype": "text/x-python",
   "name": "python",
   "nbconvert_exporter": "python",
   "pygments_lexer": "ipython3",
   "version": "3.9.12"
  }
 },
 "nbformat": 4,
 "nbformat_minor": 5
}
